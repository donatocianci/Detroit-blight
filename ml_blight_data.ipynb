{
 "cells": [
  {
   "cell_type": "markdown",
   "metadata": {},
   "source": [
    "# Detroit Blight Compliance\n",
    "This interactive notebook will build a classifier for classifying whether or not an issued blight ticket in the city of Detroit gets paid. Training and testing data was sourced from [Detroit's Open Data Portal](https://data.detroitmi.gov)."
   ]
  },
  {
   "cell_type": "markdown",
   "metadata": {},
   "source": [
    "First, we'll do some preprocessing of the data."
   ]
  },
  {
   "cell_type": "code",
   "execution_count": 2,
   "metadata": {},
   "outputs": [
    {
     "data": {
      "text/html": [
       "<div>\n",
       "<style scoped>\n",
       "    .dataframe tbody tr th:only-of-type {\n",
       "        vertical-align: middle;\n",
       "    }\n",
       "\n",
       "    .dataframe tbody tr th {\n",
       "        vertical-align: top;\n",
       "    }\n",
       "\n",
       "    .dataframe thead th {\n",
       "        text-align: right;\n",
       "    }\n",
       "</style>\n",
       "<table border=\"1\" class=\"dataframe\">\n",
       "  <thead>\n",
       "    <tr style=\"text-align: right;\">\n",
       "      <th></th>\n",
       "      <th>X</th>\n",
       "      <th>Y</th>\n",
       "      <th>agency_name</th>\n",
       "      <th>inspector_name</th>\n",
       "      <th>violator_name</th>\n",
       "      <th>violation_date</th>\n",
       "      <th>hearing_date</th>\n",
       "      <th>violation_code</th>\n",
       "      <th>disposition</th>\n",
       "      <th>fine_amount</th>\n",
       "      <th>balance_due</th>\n",
       "      <th>parcelno</th>\n",
       "    </tr>\n",
       "    <tr>\n",
       "      <th>ticket_id</th>\n",
       "      <th></th>\n",
       "      <th></th>\n",
       "      <th></th>\n",
       "      <th></th>\n",
       "      <th></th>\n",
       "      <th></th>\n",
       "      <th></th>\n",
       "      <th></th>\n",
       "      <th></th>\n",
       "      <th></th>\n",
       "      <th></th>\n",
       "      <th></th>\n",
       "    </tr>\n",
       "  </thead>\n",
       "  <tbody>\n",
       "    <tr>\n",
       "      <th>202030</th>\n",
       "      <td>-82.947311</td>\n",
       "      <td>42.359524</td>\n",
       "      <td>Buildings, Safety Engineering &amp; Env Department</td>\n",
       "      <td>Gregory Siller</td>\n",
       "      <td>ADAM KORETSZA</td>\n",
       "      <td>2009-01-08T00:00:00.000Z</td>\n",
       "      <td>2009-02-06T00:00:00.000Z</td>\n",
       "      <td>61-4-32</td>\n",
       "      <td>Not responsible by Determination</td>\n",
       "      <td>750.0</td>\n",
       "      <td>0.0</td>\n",
       "      <td>21000091-2</td>\n",
       "    </tr>\n",
       "    <tr>\n",
       "      <th>310207</th>\n",
       "      <td>-82.987194</td>\n",
       "      <td>42.398657</td>\n",
       "      <td>BSEED Environmental Affairs</td>\n",
       "      <td>Aisha Granberry</td>\n",
       "      <td>GWENDOLYN BURNETTE</td>\n",
       "      <td>2013-12-09T00:00:00.000Z</td>\n",
       "      <td>2014-01-09T00:00:00.000Z</td>\n",
       "      <td>22-2-43</td>\n",
       "      <td>Not responsible by City Dismissal</td>\n",
       "      <td>100.0</td>\n",
       "      <td>0.0</td>\n",
       "      <td>21005108.</td>\n",
       "    </tr>\n",
       "    <tr>\n",
       "      <th>50270</th>\n",
       "      <td>-83.238200</td>\n",
       "      <td>42.345750</td>\n",
       "      <td>Health Department</td>\n",
       "      <td>Eric Brooks</td>\n",
       "      <td>George Matthew</td>\n",
       "      <td>2005-09-22T00:00:00.000Z</td>\n",
       "      <td>2005-11-30T00:00:00.000Z</td>\n",
       "      <td>9-1-105</td>\n",
       "      <td>Responsible by Default</td>\n",
       "      <td>100.0</td>\n",
       "      <td>130.0</td>\n",
       "      <td>22099985.</td>\n",
       "    </tr>\n",
       "    <tr>\n",
       "      <th>376747</th>\n",
       "      <td>-82.926914</td>\n",
       "      <td>42.397969</td>\n",
       "      <td>Buildings, Safety Engineering &amp; Env Department</td>\n",
       "      <td>Wesley Bush</td>\n",
       "      <td>Micheal Eisemann</td>\n",
       "      <td>2017-01-06T00:00:00.000Z</td>\n",
       "      <td>2017-04-28T00:00:00.000Z</td>\n",
       "      <td>9-1-36(a)</td>\n",
       "      <td>Not responsible by City Dismissal</td>\n",
       "      <td>250.0</td>\n",
       "      <td>0.0</td>\n",
       "      <td>21073910.</td>\n",
       "    </tr>\n",
       "    <tr>\n",
       "      <th>238466</th>\n",
       "      <td>-83.107788</td>\n",
       "      <td>42.316641</td>\n",
       "      <td>Buildings, Safety Engineering &amp; Env Department</td>\n",
       "      <td>Bennie Sloane</td>\n",
       "      <td>TERESA REYES</td>\n",
       "      <td>2009-12-03T00:00:00.000Z</td>\n",
       "      <td>2010-03-22T00:00:00.000Z</td>\n",
       "      <td>9-1-81(a)</td>\n",
       "      <td>Not responsible by Dismissal</td>\n",
       "      <td>250.0</td>\n",
       "      <td>0.0</td>\n",
       "      <td>16016404.</td>\n",
       "    </tr>\n",
       "  </tbody>\n",
       "</table>\n",
       "</div>"
      ],
      "text/plain": [
       "                   X          Y  \\\n",
       "ticket_id                         \n",
       "202030    -82.947311  42.359524   \n",
       "310207    -82.987194  42.398657   \n",
       "50270     -83.238200  42.345750   \n",
       "376747    -82.926914  42.397969   \n",
       "238466    -83.107788  42.316641   \n",
       "\n",
       "                                              agency_name   inspector_name  \\\n",
       "ticket_id                                                                    \n",
       "202030     Buildings, Safety Engineering & Env Department   Gregory Siller   \n",
       "310207                        BSEED Environmental Affairs  Aisha Granberry   \n",
       "50270                                   Health Department      Eric Brooks   \n",
       "376747     Buildings, Safety Engineering & Env Department      Wesley Bush   \n",
       "238466     Buildings, Safety Engineering & Env Department    Bennie Sloane   \n",
       "\n",
       "                violator_name            violation_date  \\\n",
       "ticket_id                                                 \n",
       "202030          ADAM KORETSZA  2009-01-08T00:00:00.000Z   \n",
       "310207     GWENDOLYN BURNETTE  2013-12-09T00:00:00.000Z   \n",
       "50270          George Matthew  2005-09-22T00:00:00.000Z   \n",
       "376747       Micheal Eisemann  2017-01-06T00:00:00.000Z   \n",
       "238466           TERESA REYES  2009-12-03T00:00:00.000Z   \n",
       "\n",
       "                       hearing_date violation_code  \\\n",
       "ticket_id                                            \n",
       "202030     2009-02-06T00:00:00.000Z        61-4-32   \n",
       "310207     2014-01-09T00:00:00.000Z        22-2-43   \n",
       "50270      2005-11-30T00:00:00.000Z        9-1-105   \n",
       "376747     2017-04-28T00:00:00.000Z      9-1-36(a)   \n",
       "238466     2010-03-22T00:00:00.000Z      9-1-81(a)   \n",
       "\n",
       "                                 disposition  fine_amount  balance_due  \\\n",
       "ticket_id                                                                \n",
       "202030      Not responsible by Determination        750.0          0.0   \n",
       "310207     Not responsible by City Dismissal        100.0          0.0   \n",
       "50270                 Responsible by Default        100.0        130.0   \n",
       "376747     Not responsible by City Dismissal        250.0          0.0   \n",
       "238466          Not responsible by Dismissal        250.0          0.0   \n",
       "\n",
       "             parcelno  \n",
       "ticket_id              \n",
       "202030     21000091-2  \n",
       "310207      21005108.  \n",
       "50270       22099985.  \n",
       "376747      21073910.  \n",
       "238466      16016404.  "
      ]
     },
     "execution_count": 2,
     "metadata": {},
     "output_type": "execute_result"
    }
   ],
   "source": [
    "import numpy as np\n",
    "import pandas as pd\n",
    "import re\n",
    "pd.options.mode.chained_assignment = None  # default='warn'\n",
    "\n",
    "cols_to_keep = ['ticket_id','fine_amount','inspector_name', \n",
    "\t\t\t\t'violator_name','agency_name','violation_date','disposition',\n",
    "\t\t\t\t'violation_code','hearing_date','parcelno','X','Y','balance_due']\n",
    "\n",
    "blight_data = pd.read_csv( 'Blight_Violations.csv', usecols = cols_to_keep).set_index('ticket_id')\n",
    "\n",
    "blight_data.drop_duplicates(inplace = True)\n",
    "blight_data.head()"
   ]
  },
  {
   "cell_type": "markdown",
   "metadata": {},
   "source": [
    "Now we'll incorporate time data so that we can keep track of which years the tickets were issued."
   ]
  },
  {
   "cell_type": "code",
   "execution_count": 19,
   "metadata": {},
   "outputs": [],
   "source": [
    "def get_time_features(index_to_drop,label_flag, data):\n",
    "\n",
    "\tdatetime = pd.to_datetime(data[ index_to_drop ].astype(str), infer_datetime_format = True).dt\n",
    "\tdata[label_flag+'_year'] = datetime.year\n",
    "\tdata[label_flag+'_month'] = datetime.month\n",
    "\tdata[label_flag+'_day'] = datetime.day\n",
    "\tdata[label_flag+'_weekday'] = datetime.weekday\n",
    "\tdata.drop(columns = index_to_drop, inplace = True)\n",
    "\treturn data\n",
    "\n",
    "blight_data = get_time_features('violation_date', 'issued', blight_data)\n",
    "blight_data = get_time_features('hearing_date', 'hearing', blight_data)"
   ]
  },
  {
   "cell_type": "markdown",
   "metadata": {},
   "source": [
    "We'll keep only data from the years 2009 through (and including) 2018. Ultimately, data from the last two years will be our test set."
   ]
  },
  {
   "cell_type": "code",
   "execution_count": 20,
   "metadata": {},
   "outputs": [],
   "source": [
    "blight_data = blight_data[blight_data['issued_year']>=2009]\n",
    "blight_data = blight_data[blight_data['issued_year']<=2018]"
   ]
  },
  {
   "cell_type": "markdown",
   "metadata": {},
   "source": [
    "We'll use the `balance_due` feature to indicate whether or not the blight ticket was paid."
   ]
  },
  {
   "cell_type": "code",
   "execution_count": 21,
   "metadata": {},
   "outputs": [],
   "source": [
    "blight_data['compliance'] = blight_data['balance_due'].apply(lambda x: 0 if x>0.0 else 1 )\n",
    "blight_data.drop(columns = ['balance_due','hearing_year'], inplace = True)"
   ]
  },
  {
   "cell_type": "markdown",
   "metadata": {},
   "source": [
    "We'll need to use the parcel data to access more information about a particular property, e.g. assessed value, zoning, etc. However, some of the data does not have a parcel number associated to the ticket. We'll try to interpolate this missing data by retrieving parcel data from a nearby parcel. First we need to find the data that is missing a valid parcel number."
   ]
  },
  {
   "cell_type": "code",
   "execution_count": 22,
   "metadata": {},
   "outputs": [],
   "source": [
    "#first, we should drop the missing location data from the data set (there are only 82 entries missing this data).\n",
    "blight_data.dropna(axis = 0, subset = ['X','Y'], inplace = True)\n",
    "\n",
    "#next, we'll include the parcel data\n",
    "parcel_cols_to_keep = ['ward', 'year_built', 'assessed_value', 'zoning', 'parcel_number']\n",
    "parcel_data = pd.read_csv('Parcels.csv', usecols = parcel_cols_to_keep)\n",
    "parcel_data.drop_duplicates(subset = 'parcel_number',inplace= True)\n",
    "parcel_data.set_index('parcel_number', inplace = True)\n",
    "valid_parcel_codes = set(list(parcel_data.index))\n",
    "\n",
    "#these commands are used to save the coordinates of tickets that need parcel numbers\n",
    "#need_parcels = blight_data[['X','Y']].loc[~blight_data['parcelno'].isin(valid_parcel_codes)]\n",
    "#need_parcels.to_csv(path_or_buf = 'need_parcels.csv')"
   ]
  },
  {
   "cell_type": "markdown",
   "metadata": {},
   "source": [
    "Unfortunately, there's a lot of missing data in the parcel data set. We'll need the `year_built` and `assessed_value` features, but some of the data is missing (or has zero as a value). Where this data is missing, we'll replace it with the average year or value of the structures with the same zoning designation."
   ]
  },
  {
   "cell_type": "code",
   "execution_count": 23,
   "metadata": {},
   "outputs": [],
   "source": [
    "#group by the ward and zoning, then compute the avg data:\n",
    "grouped = parcel_data.groupby(['zoning'])\n",
    "avg_year_built = grouped['year_built'].mean()\n",
    "\n",
    "#some of the zoning data is missing, so we'll only update based off of zoning data that \n",
    "#isn't missing\n",
    "mask = ~parcel_data['zoning'].isnull()\n",
    "\n",
    "parcel_data.loc[mask,'avg_year_built'] = parcel_data.loc[mask].index.map(lambda x: avg_year_built.loc[  parcel_data.at[x, 'zoning']   ]) \n",
    "parcel_data['year_built'] = parcel_data['year_built'].where(parcel_data['year_built'].isnull() | parcel_data['year_built']==0.0, parcel_data['avg_year_built'])\n",
    "\n",
    "avg_value = grouped['assessed_value'].mean()\n",
    "\n",
    "parcel_data.loc[mask,'avg_val'] = parcel_data.loc[mask].index.map(lambda x: avg_value.loc[  parcel_data.at[x, 'zoning']   ]) \n",
    "parcel_data['assessed_value'] = parcel_data['assessed_value'].where(parcel_data['assessed_value'].isnull() | parcel_data['assessed_value']==0.0, parcel_data['avg_val'])"
   ]
  },
  {
   "cell_type": "markdown",
   "metadata": {},
   "source": [
    "Now we've used the Google Maps API to look up the address of the tickets that do not have parcel numbers. We then used this address to find the address in the parcel data that best matches the address provided by Google's API. We've saved this data in the file `ticket_id_to_parcel_dict.csv`. We'll import this as a dataframe and then merge the blight_data with the parcel data. "
   ]
  },
  {
   "cell_type": "code",
   "execution_count": 24,
   "metadata": {},
   "outputs": [],
   "source": [
    "ticket_id_to_parcel = pd.read_csv('ticket_id_to_parcel_dict.csv').set_index(keys = 'ticket_id')\n",
    "blight_data['padded_parcels'] = ticket_id_to_parcel\n",
    "blight_data['parcelno'].where(blight_data['parcelno'].isin(valid_parcel_codes), blight_data['padded_parcels'], inplace=True)\n",
    "blight_data.drop(columns = 'padded_parcels', inplace = True)\n",
    "blight_data['ticket_no'] = blight_data.index\n",
    "blight_data = blight_data.merge(parcel_data, left_on = 'parcelno', right_on = 'parcel_number', how = 'inner')"
   ]
  },
  {
   "cell_type": "code",
   "execution_count": 25,
   "metadata": {},
   "outputs": [],
   "source": [
    "blight_data = blight_data.set_index(keys = 'ticket_no')\n",
    "blight_data.drop(columns = ['avg_year_built','avg_val'], inplace = True)\n",
    "#drop the rest of the missing data that can't be recovered:\n",
    "blight_data = blight_data[~blight_data.isnull().any(axis = 1)]\n",
    "\n",
    "\n",
    "#save the completed data to a csv file\n",
    "#blight_data.to_csv(path_or_buf = 'processed_blight_data.csv')"
   ]
  },
  {
   "cell_type": "markdown",
   "metadata": {},
   "source": [
    "The last bit of data we'll incorporate is crime data. We'll integrate crime data and engineer the following feature: For a given address, we'll total all the reported crime instances within the $||\\cdot||_1$-ball of radius 1km of the Lat/Lon coordinate of the address. To do this, we need to approximate the distances. We'll use a linear approximation:"
   ]
  },
  {
   "cell_type": "code",
   "execution_count": 3,
   "metadata": {},
   "outputs": [],
   "source": [
    "#I ran this \"off camera\" because it took a while.\n",
    "'''\n",
    "from math import pi\n",
    "\n",
    "avg_lat = blight_data['Y'].median()*(pi/180.0)\n",
    "\n",
    "#these two variables give the instantaneous rate of change the distance (in m) as a function of latitude\n",
    "delta_lat = 111132.92 - 559.822*np.cos(2*avg_lat)+1.175*np.cos(4*avg_lat)-0.0023*np.cos(6*avg_lat)\n",
    "delta_lon =  111412.84*np.cos(avg_lat)-93.5*np.cos(3*avg_lat)+0.118*np.cos(5*avg_lat)\n",
    "\n",
    "crime_data = pd.read_csv('Reported_Major_Crimes_2011_to_2014.csv', usecols = ['LOCATION'])\n",
    "\n",
    "#clean crime data to obtain only latitude and longitude information. \n",
    "crime_data['lat'] = crime_data['LOCATION'].str.extract(r'\\(([0-9,.]+),').astype(float)\n",
    "crime_data['lon'] = crime_data['LOCATION'].str.extract(r', ([0-9,.,-]+)\\)').astype(float)\n",
    "crime_data.drop(columns = ['LOCATION'], inplace = True)\n",
    "\n",
    "tot_crimes = crime_data['lat'].size\n",
    "\n",
    "blight_data['loc'] =  list( zip(blight_data.Y, blight_data.X) ) \n",
    "crime_lat = crime_data['lat'].to_numpy()\n",
    "crime_lon = crime_data['lon'].to_numpy()\n",
    "\n",
    "def crime_tally(loc):\n",
    "    return np.sum( delta_lat*np.absolute( (loc[0])*np.ones(tot_crimes) - crime_lat )+ \\\n",
    "    delta_lon*np.absolute( (loc[1])*np.ones(tot_crimes) - crime_lon ) <= 1000.0 )\n",
    "\n",
    "blight_data['loc'].sample(frac = 0.1).apply(crime_tally)\n",
    "'''\n",
    "blight_data = pd.read_csv('processed_blight_data_with_crime.csv').set_index('ticket_no')\n",
    "\n",
    "#standardize the string data by making everything lowercase and removing punctuation\n",
    "\n",
    "def standardize_text(index, data):\n",
    "\n",
    "\tstandard = data[ index ].astype(str).map(lambda x: x.lower().strip())\n",
    "\tstandard = standard.map(lambda x: re.sub(r'[^\\w\\s]','', x))\n",
    "\n",
    "\tdata[ index ] = standard\n",
    "\n",
    "\treturn data\n",
    "\n",
    "blight_data = standardize_text('agency_name', blight_data)\n",
    "blight_data = standardize_text('inspector_name', blight_data)\n",
    "blight_data = standardize_text('violator_name', blight_data)\n",
    "\n",
    "#the `disposition` feature appears to be *highly* correlated with the the target value. \n",
    "#To avoid data leakage, we'll remove that feature and then shuffle the dataset.\n",
    "blight_data.drop(columns = 'disposition', inplace = True)\n",
    "blight_data = blight_data.sample(frac = 1)"
   ]
  },
  {
   "cell_type": "markdown",
   "metadata": {},
   "source": [
    "### Incorporating categorical data:\n",
    "There are five categorical features. We need to encode these to build our model. First we'll take care of the easier categorical features that have relatively few categories. "
   ]
  },
  {
   "cell_type": "code",
   "execution_count": 4,
   "metadata": {},
   "outputs": [
    {
     "data": {
      "text/plain": [
       "[3, 216, 98120, 254, 27]"
      ]
     },
     "execution_count": 4,
     "metadata": {},
     "output_type": "execute_result"
    }
   ],
   "source": [
    "categorical_features = ['agency_name', 'inspector_name', 'violator_name', 'violation_code', 'zoning']\n",
    "\n",
    "[blight_data[feature].value_counts().size for feature in categorical_features]"
   ]
  },
  {
   "cell_type": "markdown",
   "metadata": {},
   "source": [
    "So the features `agency_name` and `zoning` don't have many categories. There are so few we could even take a look:"
   ]
  },
  {
   "cell_type": "code",
   "execution_count": 59,
   "metadata": {},
   "outputs": [
    {
     "name": "stdout",
     "output_type": "stream",
     "text": [
      "bseed environmental affairs                     111156\n",
      "buildings safety engineering  env department    101749\n",
      "detroit police department                        10592\n",
      "Name: agency_name, dtype: int64\n",
      "R1     105490\n",
      "R2      53570\n",
      "B4      32570\n",
      "B2       6184\n",
      "R3       6065\n",
      "M4       5237\n",
      "R5       3663\n",
      "PD       1724\n",
      "M3       1617\n",
      "M2       1478\n",
      "B5       1408\n",
      "B3        952\n",
      "R6        808\n",
      "SD2       695\n",
      "SD4       433\n",
      "PCA       351\n",
      "B6        327\n",
      "R4        316\n",
      "SD1       259\n",
      "M5        105\n",
      "B1         75\n",
      "P1         71\n",
      "PC         51\n",
      "SD5        31\n",
      "PR         13\n",
      "W1          2\n",
      "TM          2\n",
      "Name: zoning, dtype: int64\n"
     ]
    }
   ],
   "source": [
    "print(blight_data['agency_name'].value_counts())\n",
    "print(blight_data['zoning'].value_counts())"
   ]
  },
  {
   "cell_type": "markdown",
   "metadata": {},
   "source": [
    "Since there are a few spurious `zoning` features, we'll just bin building codes that appeared fewer than 100 times into an `other` category."
   ]
  },
  {
   "cell_type": "code",
   "execution_count": 5,
   "metadata": {},
   "outputs": [],
   "source": [
    "spurious_codes = ['B1', 'P1', 'PC', 'SD5', 'PR', 'TM', 'W1']\n",
    "blight_data.loc[:,'zoning'] = blight_data.loc[:,'zoning'].where(~blight_data.loc[:,'zoning'].isin(spurious_codes), 'other')"
   ]
  },
  {
   "cell_type": "markdown",
   "metadata": {},
   "source": [
    "We'll encode these categorical features with one-hot encoding. The three remaining categorical features will get encoded either using target or rank encoding. To avoid data leakage, we'll split the data into the training and test sets before doing this encoding. "
   ]
  },
  {
   "cell_type": "code",
   "execution_count": 6,
   "metadata": {},
   "outputs": [],
   "source": [
    "training_data = blight_data[blight_data['issued_year']<2017]\n",
    "test_data = blight_data[blight_data['issued_year']>=2017]"
   ]
  },
  {
   "cell_type": "markdown",
   "metadata": {},
   "source": [
    "Now we'll focus on the four remaining categorical features. We'll start with looking at the violator name and violation codes. As seen previously, there are 98120 violator names and 254 different violator codes. In the case of violator names, there are too many to use one-hot encoding. So instead we'll consolidate these. First, we'll check the counts of each particular value and make a plot ranking the cumulative portion of tickets a given set of violator codes accounts for. "
   ]
  },
  {
   "cell_type": "code",
   "execution_count": 62,
   "metadata": {},
   "outputs": [
    {
     "data": {
      "text/plain": [
       "Text(0, 0.5, 'Proportion of tickets with these violation codes')"
      ]
     },
     "execution_count": 62,
     "metadata": {},
     "output_type": "execute_result"
    },
    {
     "data": {
      "image/png": "[encoded data removed]",
      "text/plain": [
       "<Figure size 432x288 with 1 Axes>"
      ]
     },
     "metadata": {
      "needs_background": "light"
     },
     "output_type": "display_data"
    }
   ],
   "source": [
    "import matplotlib.pyplot as plt\n",
    "\n",
    "violation_code_counts = training_data['violation_code'].value_counts().sort_values()\n",
    "x = np.arange(1,45)\n",
    "plt.plot(x, [violation_code_counts[-x[i-1]:].sum()/violation_code_counts.sum() for i in x])\n",
    "plt.xlabel('Top number of violation codes ranked by highest occurance')\n",
    "plt.ylabel('Proportion of tickets with these violation codes')"
   ]
  },
  {
   "cell_type": "markdown",
   "metadata": {},
   "source": [
    "Given the plot above, it looks safe to keep the top 14 violator codes ranked by number of tickets and then consolidate the remaining codes by binning them together into one label called `other`."
   ]
  },
  {
   "cell_type": "code",
   "execution_count": 7,
   "metadata": {},
   "outputs": [],
   "source": [
    "codes_to_keep = training_data['violation_code'].value_counts().sort_values()[-14:].index.values\n",
    "training_data['violation_code'] = training_data.loc[:,'violation_code'].apply(lambda x: x if x in codes_to_keep else 'other' )"
   ]
  },
  {
   "cell_type": "markdown",
   "metadata": {},
   "source": [
    "Let's apply the same analysis to the inspector names: "
   ]
  },
  {
   "cell_type": "code",
   "execution_count": 64,
   "metadata": {},
   "outputs": [
    {
     "data": {
      "text/plain": [
       "Text(0, 0.5, 'Proportion of tickets issued from these inspectors')"
      ]
     },
     "execution_count": 64,
     "metadata": {},
     "output_type": "execute_result"
    },
    {
     "data": {
      "image/png": "[encoded data removed]",
      "text/plain": [
       "<Figure size 432x288 with 1 Axes>"
      ]
     },
     "metadata": {
      "needs_background": "light"
     },
     "output_type": "display_data"
    }
   ],
   "source": [
    "inspector_counts = training_data['inspector_name'].value_counts().sort_values()\n",
    "x = np.arange(1,100)\n",
    "plt.plot(x, [inspector_counts[-x[i-1]:].sum()/inspector_counts.sum() for i in x])\n",
    "plt.xlabel('Top inspectors ranked by most active')\n",
    "plt.ylabel('Proportion of tickets issued from these inspectors')"
   ]
  },
  {
   "cell_type": "markdown",
   "metadata": {},
   "source": [
    "Not entirely clear where to cut off the inspector names. Instead, we'll replace the inspector with the inspector's success rate. For every inspector that gave out at least 100 tickets we'll compute that inspector's successful compliance rate and replace the inspector data with this rate. So we're engineering the categorical feature into a numerical one. For inspectors that gave out fewer than 100 tickets, we'll set their rate to 0.63 (which is the average rate of blight ticket compliance). "
   ]
  },
  {
   "cell_type": "code",
   "execution_count": 8,
   "metadata": {},
   "outputs": [],
   "source": [
    "insp_val_counts =  training_data['inspector_name'].value_counts()\n",
    "grouping = training_data.groupby('inspector_name')\n",
    "\n",
    "inspector_compliance_perc = grouping['compliance'].mean()\n",
    "training_data.loc[:,'inspector_perc_success'] = training_data.loc[:,'inspector_name'].apply(lambda x: inspector_compliance_perc.loc[x] if (insp_val_counts.loc[x]>100) else 0.63)\n",
    "training_data.drop(columns = 'inspector_name', inplace = True)"
   ]
  },
  {
   "cell_type": "markdown",
   "metadata": {},
   "source": [
    "We start applying the same analysis to the `violator_name` category."
   ]
  },
  {
   "cell_type": "code",
   "execution_count": 66,
   "metadata": {},
   "outputs": [
    {
     "data": {
      "text/plain": [
       "Text(0, 0.5, 'Proportion of tickets issued to these violators')"
      ]
     },
     "execution_count": 66,
     "metadata": {},
     "output_type": "execute_result"
    },
    {
     "data": {
      "image/png": "[encoded data removed]",
      "text/plain": [
       "<Figure size 432x288 with 1 Axes>"
      ]
     },
     "metadata": {
      "needs_background": "light"
     },
     "output_type": "display_data"
    }
   ],
   "source": [
    "violator_counts = training_data['violator_name'].value_counts().sort_values()\n",
    "x = np.arange(1,100)\n",
    "plt.plot(x, [violator_counts[-x[i-1]:].sum()/violator_counts.sum() for i in x])\n",
    "plt.xlabel('Top violators ranked by tickets accrued')\n",
    "plt.ylabel('Proportion of tickets issued to these violators')"
   ]
  },
  {
   "cell_type": "markdown",
   "metadata": {},
   "source": [
    "Similar to the `inspector_name` category, we cannot use the binning approach. Instead, we'll use count encoding to convert the violator name to the number of times that violator recieved a blight ticket. "
   ]
  },
  {
   "cell_type": "code",
   "execution_count": 9,
   "metadata": {},
   "outputs": [],
   "source": [
    "viol_val_counts =  training_data['violator_name'].value_counts(dropna = False)\n",
    "\n",
    "training_data.loc[:,'violator_count'] = training_data.loc[:,'violator_name'].apply(lambda x: viol_val_counts.loc[x])\n",
    "training_data.drop(columns = 'violator_name', inplace = True)"
   ]
  },
  {
   "cell_type": "markdown",
   "metadata": {},
   "source": [
    "## Fitting a gradient boosted decision tree classifier\n",
    "We're ready to fit a model with our training data. We start by removing the labels from the training data and one-hot encoding the remaining categorical features."
   ]
  },
  {
   "cell_type": "code",
   "execution_count": 10,
   "metadata": {},
   "outputs": [],
   "source": [
    "X = training_data.drop(columns= ['compliance'], axis = 1)\n",
    "Y = training_data['compliance']\n",
    "\n",
    "#use one-hot encoding for `agency_name` and `violation_code` and `zoning`. \n",
    "X = pd.get_dummies(X, columns = ['agency_name', 'violation_code','zoning'])"
   ]
  },
  {
   "cell_type": "code",
   "execution_count": null,
   "metadata": {},
   "outputs": [],
   "source": [
    "#end preprocessing; Do grid search:\n",
    "from sklearn.model_selection import GridSearchCV\n",
    "from sklearn.ensemble import GradientBoostingClassifier\n",
    "\n",
    "grid_values = {'n_estimators': [5,10], 'learning_rate': [0.1,0.01], 'max_depth':[6,7,8]}\n",
    "\n",
    "gbc = GradientBoostingClassifier()\n",
    "\n",
    "roc_grid = GridSearchCV(gbc, param_grid = grid_values, scoring = 'roc_auc', cv = 4)\n",
    "\n",
    "roc_grid.fit(X,Y)\n",
    "\n",
    "grid_data = pd.DataFrame(roc_grid.cv_results_)\n",
    "mean_test_scores = grid_data.set_index('params')['mean_test_score']\n",
    "\n",
    "print(mean_test_scores.values.reshape(2,2,3))"
   ]
  },
  {
   "cell_type": "markdown",
   "metadata": {},
   "source": [
    "Given the grid search, it looks like we should train a gradient boosted decision tree ensemble with parameters: `n_estimators = 5`, `learning_rate = 0.01` and `max_depth = 7`."
   ]
  },
  {
   "cell_type": "code",
   "execution_count": 27,
   "metadata": {},
   "outputs": [
    {
     "data": {
      "text/plain": [
       "0.7224323761025311"
      ]
     },
     "execution_count": 27,
     "metadata": {},
     "output_type": "execute_result"
    }
   ],
   "source": [
    "from sklearn.model_selection import GridSearchCV\n",
    "from sklearn.ensemble import GradientBoostingClassifier\n",
    "\n",
    "gbc = GradientBoostingClassifier(learning_rate = 0.01, max_depth = 7, n_estimators = 5)\n",
    "gbc.fit(X,Y)\n",
    "\n",
    "y_score = gbc.predict_proba(X)\n",
    "\n",
    "from sklearn.metrics import roc_auc_score\n",
    "from sklearn.metrics import roc_curve\n",
    "\n",
    "roc_auc_score(Y, y_score[:,1])"
   ]
  },
  {
   "cell_type": "markdown",
   "metadata": {},
   "source": [
    "Now we'll encode the categorical data in the test set using the encodings from the training set."
   ]
  },
  {
   "cell_type": "code",
   "execution_count": 13,
   "metadata": {},
   "outputs": [],
   "source": [
    "#use the popular codes from the test set:\n",
    "test_data.loc[:,'violation_code'] = test_data.loc[:,'violation_code'].apply(lambda x: x if x in codes_to_keep else 'other' )\n",
    "\n",
    "# encode the inspector's success rate:\n",
    "insp_val_counts =  test_data['inspector_name'].value_counts()\n",
    "grouping = test_data.groupby('inspector_name')\n",
    "\n",
    "inspector_compliance_perc = grouping['compliance'].mean()\n",
    "test_data.loc[:,'inspector_perc_success'] = test_data.loc[:,'inspector_name'].apply(lambda x: inspector_compliance_perc.loc[x] if (insp_val_counts.loc[x]>100) else 0.63)\n",
    "test_data.drop(columns = 'inspector_name', inplace = True)\n",
    "\n",
    "#use the violator counts from the training set:\n",
    "test_data.loc[:,'violator_count'] = test_data.loc[:,'violator_name'].apply(lambda x: viol_val_counts.loc[x] if (x in viol_val_counts.index) else viol_val_counts.mean())\n",
    "test_data.drop(columns = 'violator_name', inplace = True)"
   ]
  },
  {
   "cell_type": "code",
   "execution_count": 14,
   "metadata": {},
   "outputs": [],
   "source": [
    "X_test = test_data.drop(columns= ['compliance'], axis = 1)\n",
    "Y_test = test_data['compliance']\n",
    "\n",
    "#use one-hot encoding for `agency_name` and `violation_code` and `zoning`. \n",
    "X_test = pd.get_dummies(X_test, columns = ['agency_name', 'violation_code','zoning'])"
   ]
  },
  {
   "cell_type": "code",
   "execution_count": 15,
   "metadata": {},
   "outputs": [
    {
     "data": {
      "text/plain": [
       "0.5853365139479605"
      ]
     },
     "execution_count": 15,
     "metadata": {},
     "output_type": "execute_result"
    }
   ],
   "source": [
    "y_test_score = gbc.predict_proba(X_test)\n",
    "roc_auc_score(Y_test, y_test_score[:,1])"
   ]
  },
  {
   "cell_type": "markdown",
   "metadata": {},
   "source": [
    "It's interesting (and a little disappointing) that the ROC score for the test data is much worse than the ROC score for the training data. This could be for a variety of reasons. First, perhaps the parameters above for our gradient boosted classifier have caused us to overfit the training data. Second, it is possible that we're seeing \"drift,\" i.e. that the more recent data is governed by a probability distribution with different parameters. This could be investigated more by say, doing some hypothesis testing or comparing statistics for the training and test set. One easy statistic to look at is the percentage of blight ticket compliance. For the test set, average compliance is more than 10% lower than the average compliance for the training set. Either way, it's useful to look at the ROC curves for our model."
   ]
  },
  {
   "cell_type": "code",
   "execution_count": 91,
   "metadata": {},
   "outputs": [
    {
     "data": {
      "image/png": "[encoded data removed]",
      "text/plain": [
       "<Figure size 432x288 with 2 Axes>"
      ]
     },
     "metadata": {
      "needs_background": "light"
     },
     "output_type": "display_data"
    }
   ],
   "source": [
    "fpr, tpr, _ = roc_curve(Y, y_score[:,1])\n",
    "fprt, tprt, _ = roc_curve(Y_test, y_test_score[:,1])\n",
    "\n",
    "fig,a =  plt.subplots(1,2)\n",
    "a[0].set_xlim([-0.01, 1.00])\n",
    "a[0].set_ylim([-0.01, 1.01])\n",
    "a[0].plot(fpr, tpr, lw=3, label='GBC ROC curve (area = 0.72)')\n",
    "a[0].set_xlabel('False Positive Rate', fontsize=16)\n",
    "a[0].set_ylabel('True Positive Rate', fontsize=16)\n",
    "a[0].set_title('ROC curve (Training Data)', fontsize=16)\n",
    "a[0].legend(loc='best', fontsize=13)\n",
    "a[0].plot([0, 1], [0, 1], color='navy', lw=3, linestyle='--')\n",
    "a[0].set_aspect('equal')\n",
    "\n",
    "a[1].set_xlim([-0.01, 1.00])\n",
    "a[1].set_ylim([-0.01, 1.01])\n",
    "a[1].plot(fprt, tprt, lw=3, label='GBC ROC curve (area = 0.59)')\n",
    "a[1].set_xlabel('False Positive Rate', fontsize=16)\n",
    "a[1].set_ylabel('True Positive Rate', fontsize=16)\n",
    "a[1].set_title('ROC curve (Testing Data)', fontsize=16)\n",
    "a[1].legend(loc='best', fontsize=13)\n",
    "a[1].plot([0, 1], [0, 1], color='navy', lw=3, linestyle='--')\n",
    "a[1].set_aspect('equal')\n",
    "plt.subplots_adjust(bottom=0.1, right=2.0, top=1.5)\n",
    "\n",
    "plt.show()"
   ]
  },
  {
   "cell_type": "markdown",
   "metadata": {},
   "source": [
    "Here are the top 10 most important features:"
   ]
  },
  {
   "cell_type": "code",
   "execution_count": 109,
   "metadata": {},
   "outputs": [
    {
     "data": {
      "text/plain": [
       "array(['assessed_value', 'inspector_perc_success', 'zoning_B4', 'Y',\n",
       "       'hearing_weekday', 'violator_count', 'X', 'year_built', 'ward',\n",
       "       'crime_totals'], dtype=object)"
      ]
     },
     "execution_count": 109,
     "metadata": {},
     "output_type": "execute_result"
    }
   ],
   "source": [
    "importance_ = gbc.feature_importances_\n",
    "\n",
    "feature_importance = zip(X.columns.values, importance_)\n",
    "feature_importance = pd.DataFrame(list(feature_importance), columns = ['feature', 'importance']).set_index('feature')\n",
    "\n",
    "sorted_features = feature_importance.sort_values(by = 'importance',ascending = False)\n",
    "sorted_features.index.values[0:10]"
   ]
  },
  {
   "cell_type": "markdown",
   "metadata": {},
   "source": [
    "Many of these important features are not very surprising. For instance, it makes sense that the assessed value, the location data, neighborhood and crime data are important factors for determining whether a given ticket will be paid. However, there are some surprising features in this list. For instance, it appears that certain inspectors really are better than others at facilitating compliance. With this knowledge, we could interview successful inspectors and try to produce general guidelines to all inspectors based off of the successful inspectors' feedback. The fact that the day of the week a given blight ticket is issued is important for determining compliance is genuinely surprising at first. However, I suspect this is another manifestation of the fact that certain inspectors are better than others at facilitating compliance. To confirm this, we can averge the hearing weekday feature across the inspectors. We see in the output below that the inspectors appear to only show up to court on certain days. So the `hearing_weekday` feature is just helping detect whether a particular blight ticket came from an instructor that's good at facilitating compliance or not. "
   ]
  },
  {
   "cell_type": "code",
   "execution_count": 114,
   "metadata": {},
   "outputs": [
    {
     "data": {
      "text/plain": [
       "inspector_name\n",
       "raymond  berendt    0.0\n",
       "della brown         0.0\n",
       "lashanna mcghee     0.0\n",
       "bryan bahm          0.0\n",
       "trevis  anderson    0.0\n",
       "                   ... \n",
       "cecila williams     4.0\n",
       "rolland wilkins     4.0\n",
       "darnell johnson     4.0\n",
       "joseph corbett      4.0\n",
       "melanie malone      4.0\n",
       "Name: hearing_weekday, Length: 216, dtype: float64"
      ]
     },
     "execution_count": 114,
     "metadata": {},
     "output_type": "execute_result"
    }
   ],
   "source": [
    "blight_data.groupby('inspector_name')['hearing_weekday'].mean().sort_values()"
   ]
  },
  {
   "cell_type": "code",
   "execution_count": null,
   "metadata": {},
   "outputs": [],
   "source": []
  }
 ],
 "metadata": {
  "anaconda-cloud": {},
  "coursera": {
   "course_slug": "python-data-analysis",
   "graded_item_id": "zAr06",
   "launcher_item_id": "KSSjT",
   "part_id": "SL3fU"
  },
  "kernelspec": {
   "display_name": "Python 3",
   "language": "python",
   "name": "python3"
  },
  "language_info": {
   "codemirror_mode": {
    "name": "ipython",
    "version": 3
   },
   "file_extension": ".py",
   "mimetype": "text/x-python",
   "name": "python",
   "nbconvert_exporter": "python",
   "pygments_lexer": "ipython3",
   "version": "3.7.3"
  }
 },
 "nbformat": 4,
 "nbformat_minor": 1
}
